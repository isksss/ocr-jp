{
  "nbformat": 4,
  "nbformat_minor": 0,
  "metadata": {
    "colab": {
      "private_outputs": true,
      "provenance": [],
      "mount_file_id": "1qyxmgoKfCv1f3xyCURaCbRgxezNh7YBc",
      "authorship_tag": "ABX9TyOTrlZ9cFl5EW8vxysTuGGC"
    },
    "kernelspec": {
      "name": "python3",
      "display_name": "Python 3"
    },
    "language_info": {
      "name": "python"
    }
  },
  "cells": [
    {
      "cell_type": "markdown",
      "source": [
        "# ETL9B binary -> png"
      ],
      "metadata": {
        "id": "IsPoYNiWAgMy"
      }
    },
    {
      "cell_type": "code",
      "source": [
        "from google.colab import drive\n",
        "drive.mount('/content/drive')"
      ],
      "metadata": {
        "id": "7Lrt4Xut83aH"
      },
      "execution_count": null,
      "outputs": []
    },
    {
      "cell_type": "markdown",
      "source": [
        "## var setting\n",
        "共通で使用する変数を定義する"
      ],
      "metadata": {
        "id": "qs6vb60kAyIA"
      }
    },
    {
      "cell_type": "code",
      "source": [
        "# 各種変数設定\n",
        "ETL9B_HOME = \"/content/drive/MyDrive/home/school/3/ai-dev\" #ルートディレクトリ\n",
        "ETL9B_ZIP = ETL9B_HOME + \"/zip/ETL9B.zip\" # etl9bのzipファイル\n",
        "UNZIP_HOME = ETL9B_HOME + \"/unzip\" # unzipしたファイルの場所\n",
        "\n",
        "ETL9B_UNZIP = UNZIP_HOME + \"/ETL9B\"\n",
        "\n",
        "ETL9B_PNG = ETL9B_HOME + '/png' # PNGを保存するフォルダ"
      ],
      "metadata": {
        "id": "g78vSi1yA1dz"
      },
      "execution_count": null,
      "outputs": []
    },
    {
      "cell_type": "markdown",
      "source": [
        "## unzip\n",
        "zip状態のbinaryを解凍する\n"
      ],
      "metadata": {
        "id": "rZa2l4McAWCg"
      }
    },
    {
      "cell_type": "code",
      "execution_count": null,
      "metadata": {
        "id": "V7Siw5pP-meH"
      },
      "outputs": [],
      "source": [
        "import shutil\n",
        "import pathlib\n",
        "\n",
        "unzip_dir = pathlib.Path(UNZIP_HOME)\n",
        "\n",
        "# unzipフォルダが存在しないとき作成する\n",
        "if not unzip_dir.exists(): \n",
        "  unzip_dir.mkdir()\n",
        "\n",
        "shutil.unpack_archive(ETL9B_ZIP, UNZIP_HOME)"
      ]
    },
    {
      "cell_type": "markdown",
      "source": [
        "## データセット準備"
      ],
      "metadata": {
        "id": "kOvpkYoQ-pyF"
      }
    },
    {
      "cell_type": "markdown",
      "source": [
        "### バイナリ読み込み"
      ],
      "metadata": {
        "id": "3EVWFryK_CSN"
      }
    },
    {
      "cell_type": "code",
      "source": [
        "# 出力フォルダ作成\n",
        "import pathlib\n",
        "\n",
        "png_dir = pathlib.Path(ETL9B_PNG)\n",
        "\n",
        "if not png_dir.exists(): \n",
        "  png_dir.mkdir()\n",
        "\n",
        "print(png_dir)"
      ],
      "metadata": {
        "id": "Rj40_jds-8fB"
      },
      "execution_count": null,
      "outputs": []
    },
    {
      "cell_type": "code",
      "source": [
        "# etl9bフォルダからそれぞれのパスをもってくる\n",
        "import glob\n",
        "\n",
        "files = glob.glob(ETL9B_UNZIP + \"/*\")\n",
        "\n",
        "print(files)"
      ],
      "metadata": {
        "id": "v_nDKtRTB2SO"
      },
      "execution_count": null,
      "outputs": []
    },
    {
      "cell_type": "code",
      "source": [
        "import os\n",
        "import struct\n",
        "from PIL import Image\n",
        "from pathlib import Path\n",
        "\n",
        "for fname in files:\n",
        "  if fname == ETL9B_UNZIP + \"/ETL9INFO\": continue # skip info\n",
        "  if fname == ETL9B_UNZIP + \"/ETL9B_2\": continue\n",
        "  if fname == ETL9B_UNZIP + \"/ETL9B_3\": continue\n",
        "  if fname == ETL9B_UNZIP + \"/ETL9B_4\": continue\n",
        "  if fname == ETL9B_UNZIP + \"/ETL9B_5\": continue\n",
        "\n",
        "  print('START: ' + fname)\n",
        "\n",
        "  # ファイルを開く\n",
        "  f = open(fname, 'rb')\n",
        "  f.seek(0)\n",
        "\n",
        "  ##\n",
        "  cnt = 0\n",
        "  out_dir = Path(ETL9B_PNG, 'ETL9B')\n",
        "  while True:\n",
        "    cnt += 1\n",
        "    if cnt == 1: continue ## エラー起きるからスキップ。理由は調べてない\n",
        "    s = f.read(576)\n",
        "    if not s: break\n",
        "\n",
        "    r = struct.unpack('>2H4s504s64x', s)\n",
        "    i1 = Image.frombytes('1', (64, 63), r[3], 'raw')\n",
        "\n",
        "    file_name = 'ETL9B_{}_{}_{}.png'.format((r[0]-1)%20+1, hex(r[1])[-4:], cnt)\n",
        "    dir_name = \"{}\".format(hex(r[1])[-4:])\n",
        "    dir = Path(out_dir, dir_name)\n",
        "    # print(file_name)\n",
        "    if not dir.exists():\n",
        "      dir.mkdir(parents=True)\n",
        "    \n",
        "    png = Path(dir, file_name)\n",
        "\n",
        "    i1.save(png, 'PNG')\n"
      ],
      "metadata": {
        "id": "a40vDw1NCe8V"
      },
      "execution_count": null,
      "outputs": []
    }
  ]
}