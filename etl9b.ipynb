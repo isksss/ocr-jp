{
  "nbformat": 4,
  "nbformat_minor": 0,
  "metadata": {
    "colab": {
      "private_outputs": true,
      "provenance": [],
      "authorship_tag": "ABX9TyNZ2SEssW7tYfL6JVBzf4go"
    },
    "kernelspec": {
      "name": "python3",
      "display_name": "Python 3"
    },
    "language_info": {
      "name": "python"
    }
  },
  "cells": [
    {
      "cell_type": "markdown",
      "source": [
        "# ETL9B binary -> png"
      ],
      "metadata": {
        "id": "IsPoYNiWAgMy"
      }
    },
    {
      "cell_type": "markdown",
      "source": [
        "## var setting\n",
        "共通で使用する変数を定義する"
      ],
      "metadata": {
        "id": "qs6vb60kAyIA"
      }
    },
    {
      "cell_type": "code",
      "source": [
        "# Google Drive \n",
        "from google.colab import drive\n",
        "drive.mount('/content/drive')"
      ],
      "metadata": {
        "id": "kFQmv_lnB89u"
      },
      "execution_count": null,
      "outputs": []
    },
    {
      "cell_type": "code",
      "source": [
        "# 各種変数設定\n",
        "ETL9B_HOME = \"/content/drive/MyDrive/home/school/3/ai-dev\" #ルートディレクトリ\n",
        "ETL9B_ZIP = ETL9B_HOME + \"/zip/ETL9B.zip\" # etl9bのzipファイル\n",
        "UNZIP_HOME = ETL9B_HOME + \"/unzip\" # unzipしたファイルの場所\n",
        "\n",
        "ETL9B_UNZIP = UNZIP_HOME + \"/ETL9B\""
      ],
      "metadata": {
        "id": "g78vSi1yA1dz"
      },
      "execution_count": null,
      "outputs": []
    },
    {
      "cell_type": "markdown",
      "source": [
        "## unzip\n",
        "zip状態のbinaryを解凍する\n"
      ],
      "metadata": {
        "id": "rZa2l4McAWCg"
      }
    },
    {
      "cell_type": "code",
      "execution_count": null,
      "metadata": {
        "id": "V7Siw5pP-meH"
      },
      "outputs": [],
      "source": [
        "import shutil\n",
        "import pathlib\n",
        "\n",
        "unzip_dir = pathlib.Path(UNZIP_HOME)\n",
        "\n",
        "# unzipフォルダが存在しないとき作成する\n",
        "if not unzip_dir.exists(): \n",
        "  unzip_dir.mkdir()\n",
        "\n",
        "shutil.unpack_archive(ETL9B_ZIP, UNZIP_HOME)"
      ]
    },
    {
      "cell_type": "code",
      "source": [],
      "metadata": {
        "id": "tTBv8X0hDiVG"
      },
      "execution_count": null,
      "outputs": []
    }
  ]
}